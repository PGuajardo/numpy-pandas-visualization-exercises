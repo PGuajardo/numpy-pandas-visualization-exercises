{
 "cells": [
  {
   "cell_type": "code",
   "execution_count": 1,
   "id": "f6e8c860",
   "metadata": {},
   "outputs": [],
   "source": [
    "import numpy as np\n",
    "a = np.array([4, 10, 12, 23, -2, -1, 0, 0, 0, -6, 3, -7])"
   ]
  },
  {
   "cell_type": "code",
   "execution_count": 4,
   "id": "f11d3c51",
   "metadata": {},
   "outputs": [
    {
     "name": "stdout",
     "output_type": "stream",
     "text": [
      "This is how many negative numbers there are:  4\n"
     ]
    }
   ],
   "source": [
    "# 1.) How many negative numbers are there?\n",
    "\n",
    "negative = a < 0\n",
    "negative\n",
    "\n",
    "print(\"This is how many negative numbers there are: \",len(a[negative]))"
   ]
  },
  {
   "cell_type": "code",
   "execution_count": 5,
   "id": "4d6a521c",
   "metadata": {},
   "outputs": [
    {
     "name": "stdout",
     "output_type": "stream",
     "text": [
      "This is how many negative numbers there are:  5\n"
     ]
    }
   ],
   "source": [
    "# 2.) How many positive numbers are there?\n",
    "\n",
    "positive = a > 0\n",
    "positive\n",
    "\n",
    "print(\"This is how many negative numbers there are: \",len(a[positive]))"
   ]
  },
  {
   "cell_type": "code",
   "execution_count": 6,
   "id": "0a45609d",
   "metadata": {},
   "outputs": [
    {
     "name": "stdout",
     "output_type": "stream",
     "text": [
      "This is how many positive even numbers there are:  3\n"
     ]
    }
   ],
   "source": [
    "# 3.) How many even positive numbers are there?\n",
    "\n",
    "#positive = a % 2 == 0\n",
    "#positive = a > 0 \n",
    "positive_even = a[(a>0) & (a%2 == 0)]\n",
    "positive_even\n",
    "\n",
    "print(\"This is how many positive even numbers there are: \", len(positive_even))"
   ]
  },
  {
   "cell_type": "code",
   "execution_count": 7,
   "id": "6b8bb924",
   "metadata": {},
   "outputs": [
    {
     "name": "stdout",
     "output_type": "stream",
     "text": [
      "This is how many positive numbers there are when you add 3 to the array:  10\n"
     ]
    }
   ],
   "source": [
    "# 4.) If you were to add 3 to each data point, how many positive numbers would there be?\n",
    "\n",
    "a2 = a + 3\n",
    "a2\n",
    "\n",
    "positive2 = a2 > 0\n",
    "positive2\n",
    "print(\"This is how many positive numbers there are when you add 3 to the array: \", len(a[positive2]))"
   ]
  },
  {
   "cell_type": "code",
   "execution_count": 8,
   "id": "6cbb074c",
   "metadata": {},
   "outputs": [
    {
     "name": "stdout",
     "output_type": "stream",
     "text": [
      "This is the new standard deviationg:  8.06225774829855\n",
      "This is the new mean:  3.0\n",
      "\n",
      "\n",
      "This is the new standard deviationg:  144.0243035046516\n",
      "This is the new mean:  74.0\n"
     ]
    }
   ],
   "source": [
    "# 5.) If you squared each number, what would the new mean and standard deviation be?\n",
    "\n",
    "a3 = a**2\n",
    "a3\n",
    "\n",
    "\n",
    "print(\"This is the new standard deviationg: \",np.std(a))\n",
    "print(\"This is the new mean: \",np.mean(a))\n",
    "\n",
    "\n",
    "print(\"\\n\\nThis is the new standard deviationg: \",np.std(a3))\n",
    "print(\"This is the new mean: \",np.mean(a3))"
   ]
  },
  {
   "cell_type": "code",
   "execution_count": 9,
   "id": "0290108d",
   "metadata": {},
   "outputs": [
    {
     "name": "stdout",
     "output_type": "stream",
     "text": [
      "0.0\n"
     ]
    }
   ],
   "source": [
    "# 6.) A common statistical operation on a dataset is centering.\n",
    "# This means to adjust the data such that the mean of the data is 0. \n",
    "#This is done by subtracting the mean from each data point. Center the data set. See this link for more on centering.\n",
    "\n",
    "a_is_mean = np.mean(a)\n",
    "\n",
    "centering = a - a_is_mean\n",
    "centering\n",
    "\n",
    "center = np.mean(centering)\n",
    "\n",
    "print(center)"
   ]
  },
  {
   "cell_type": "code",
   "execution_count": 10,
   "id": "e91dc1cc",
   "metadata": {},
   "outputs": [
    {
     "name": "stdout",
     "output_type": "stream",
     "text": [
      "[ 0.12403473  0.86824314  1.11631261  2.48069469 -0.62017367 -0.49613894\n",
      " -0.3721042  -0.3721042  -0.3721042  -1.11631261  0.         -1.24034735]\n"
     ]
    }
   ],
   "source": [
    "# 7.) Calculate the z-score for each data point. Recall that the z-score is given by:\n",
    "# Z = x − μ σ\n",
    "\n",
    "z =  a - np.mean(a)\n",
    "\n",
    "z_score = z / np.std(a)\n",
    "\n",
    "print(z_score)"
   ]
  },
  {
   "cell_type": "markdown",
   "id": "31ca19b7",
   "metadata": {},
   "source": [
    "# 8.) Copy the setup and exercise directions from More Numpy Practice into your numpy_exercises.py and\n",
    "# add your solutions."
   ]
  },
  {
   "cell_type": "code",
   "execution_count": 11,
   "id": "4b87567e",
   "metadata": {},
   "outputs": [],
   "source": [
    "c = [1, 2, 3, 4, 5, 6, 7, 8, 9, 10]"
   ]
  },
  {
   "cell_type": "code",
   "execution_count": 12,
   "id": "d0ff180d",
   "metadata": {},
   "outputs": [
    {
     "name": "stdout",
     "output_type": "stream",
     "text": [
      "55\n"
     ]
    }
   ],
   "source": [
    "# Exercise 1 - Make a variable called sum_of_a to hold the sum of all the numbers in above list\n",
    "sum_of_a = np.sum(c)\n",
    "print(sum_of_a)"
   ]
  },
  {
   "cell_type": "code",
   "execution_count": 13,
   "id": "2ecfd50b",
   "metadata": {},
   "outputs": [
    {
     "name": "stdout",
     "output_type": "stream",
     "text": [
      "1\n"
     ]
    }
   ],
   "source": [
    "# Exercise 2 - Make a variable named min_of_a to hold the minimum of all the numbers in the above list\n",
    "min_of_c = np.min(c)\n",
    "\n",
    "print(min_of_c)"
   ]
  },
  {
   "cell_type": "code",
   "execution_count": 14,
   "id": "3937e63e",
   "metadata": {},
   "outputs": [
    {
     "name": "stdout",
     "output_type": "stream",
     "text": [
      "10\n"
     ]
    }
   ],
   "source": [
    "# Exercise 3 - Make a variable named max_of_a to hold the max number of all the numbers in the above list\n",
    "\n",
    "max_of_c = np.max(c)\n",
    "\n",
    "print(max_of_c)"
   ]
  },
  {
   "cell_type": "code",
   "execution_count": 15,
   "id": "69d4dbff",
   "metadata": {},
   "outputs": [
    {
     "name": "stdout",
     "output_type": "stream",
     "text": [
      "5.5\n"
     ]
    }
   ],
   "source": [
    "# Exercise 4 - Make a variable named mean_of_a to hold the average of all the numbers in the above list\n",
    "\n",
    "mean_of_c = np.mean(c)\n",
    "\n",
    "print(mean_of_c)"
   ]
  },
  {
   "cell_type": "code",
   "execution_count": 16,
   "id": "50c8a94b",
   "metadata": {},
   "outputs": [
    {
     "name": "stdout",
     "output_type": "stream",
     "text": [
      "3628800\n"
     ]
    }
   ],
   "source": [
    "# Exercise 5 - Make a variable named product_of_a to hold the product of multiplying all the numbers in the above list together\n",
    "\n",
    "product_of_c = np.product(c)\n",
    "\n",
    "print(product_of_c)"
   ]
  },
  {
   "cell_type": "code",
   "execution_count": 17,
   "id": "05228aa4",
   "metadata": {},
   "outputs": [
    {
     "name": "stdout",
     "output_type": "stream",
     "text": [
      "[  1   4   9  16  25  36  49  64  81 100]\n"
     ]
    }
   ],
   "source": [
    "# Exercise 6 - Make a variable named squares_of_a. It should hold each number in a squared like [1, 4, 9, 16, 25...]\n",
    "\n",
    "squares_of_c = np.square(c)\n",
    "\n",
    "print(squares_of_c)"
   ]
  },
  {
   "cell_type": "code",
   "execution_count": 21,
   "id": "afbf73c3",
   "metadata": {},
   "outputs": [
    {
     "name": "stdout",
     "output_type": "stream",
     "text": [
      "[1 3 5 7 9]\n"
     ]
    }
   ],
   "source": [
    "# Exercise 7 - Make a variable named odds_in_a. It should hold only the odd numbers\n",
    "c  = np.array(c)\n",
    "odds_in_c = (c%2 != 0)\n",
    "\n",
    "print(c[odds_in_c])"
   ]
  },
  {
   "cell_type": "code",
   "execution_count": 22,
   "id": "bab9f011",
   "metadata": {},
   "outputs": [
    {
     "name": "stdout",
     "output_type": "stream",
     "text": [
      "[ 2  4  6  8 10]\n"
     ]
    }
   ],
   "source": [
    "# Exercise 8 - Make a variable named evens_in_a. It should hold only the evens.\n",
    "evens_in_c = (c%2 == 0)\n",
    "\n",
    "print(c[evens_in_c])"
   ]
  },
  {
   "cell_type": "markdown",
   "id": "6b452f18",
   "metadata": {},
   "source": [
    "# Set up 2"
   ]
  },
  {
   "cell_type": "code",
   "execution_count": 28,
   "id": "adb4f9df",
   "metadata": {},
   "outputs": [],
   "source": [
    "b = [\n",
    "    [3, 4, 5],\n",
    "    [6, 7, 8]\n",
    "]"
   ]
  },
  {
   "cell_type": "code",
   "execution_count": 39,
   "id": "989f28c7",
   "metadata": {},
   "outputs": [
    {
     "name": "stdout",
     "output_type": "stream",
     "text": [
      "33\n"
     ]
    }
   ],
   "source": [
    "# Exercise 1 - refactor the following to use numpy. Use sum_of_b as the variable. **Hint, you'll first need to make sure that the \"b\" variable is a numpy array**\n",
    "#sum_of_b = 0\n",
    "#for row in b:\n",
    "#    sum_of_b += sum(row)\n",
    "    \n",
    "b = np.array(b)\n",
    "\n",
    "sum_of_b = np.sum(b)\n",
    "print(sum_of_b)"
   ]
  },
  {
   "cell_type": "code",
   "execution_count": 37,
   "id": "9f1c7353",
   "metadata": {},
   "outputs": [
    {
     "name": "stdout",
     "output_type": "stream",
     "text": [
      "3\n"
     ]
    }
   ],
   "source": [
    "# Exercise 2 - refactor the following to use numpy. \n",
    "#min_of_b = min(b[0]) if min(b[0]) <= min(b[1]) else min(b[1])\n",
    "\n",
    "min_of_b = np.min(b)\n",
    "\n",
    "print(min_of_b)"
   ]
  },
  {
   "cell_type": "code",
   "execution_count": 36,
   "id": "52a1d391",
   "metadata": {},
   "outputs": [
    {
     "name": "stdout",
     "output_type": "stream",
     "text": [
      "8\n"
     ]
    }
   ],
   "source": [
    "# Exercise 3 - refactor the following maximum calculation to find the answer with numpy.\n",
    "#max_of_b = max(b[0]) if max(b[0]) >= max(b[1]) else max(b[1])\n",
    "\n",
    "max_of_b = np.max(b)\n",
    "\n",
    "print(max_of_b)"
   ]
  },
  {
   "cell_type": "code",
   "execution_count": 41,
   "id": "811fc31f",
   "metadata": {},
   "outputs": [
    {
     "name": "stdout",
     "output_type": "stream",
     "text": [
      "5.5\n"
     ]
    }
   ],
   "source": [
    "# Exercise 4 - refactor the following using numpy to find the mean of b\n",
    "#mean_of_b = (sum(b[0]) + sum(b[1])) / (len(b[0]) + len(b[1]))\n",
    "\n",
    "mean_of_b - np.mean(b)\n",
    "\n",
    "print(mean_of_b)"
   ]
  },
  {
   "cell_type": "code",
   "execution_count": 43,
   "id": "a1b2051b",
   "metadata": {},
   "outputs": [
    {
     "name": "stdout",
     "output_type": "stream",
     "text": [
      "20160\n"
     ]
    }
   ],
   "source": [
    "# Exercise 5 - refactor the following to use numpy for calculating the product of all numbers multiplied together.\n",
    "#product_of_b = 1\n",
    "#for row in b:\n",
    "#    for number in row:\n",
    "#        product_of_b *= number\n",
    "     \n",
    "product_of_b = np.product(b)    \n",
    "print(product_of_b)"
   ]
  },
  {
   "cell_type": "code",
   "execution_count": 46,
   "id": "ef770b78",
   "metadata": {},
   "outputs": [
    {
     "name": "stdout",
     "output_type": "stream",
     "text": [
      "[[ 9 16 25]\n",
      " [36 49 64]]\n"
     ]
    }
   ],
   "source": [
    "# Exercise 6 - refactor the following to use numpy to find the list of squares \n",
    "#squares_of_b = []\n",
    "#for row in b:\n",
    "#    for number in row:\n",
    "#        squares_of_b.append(number**2)\n",
    "        \n",
    "squares_of_b = np.square(b)\n",
    "\n",
    "print(squares_of_b)"
   ]
  },
  {
   "cell_type": "code",
   "execution_count": 50,
   "id": "729920d1",
   "metadata": {},
   "outputs": [
    {
     "name": "stdout",
     "output_type": "stream",
     "text": [
      "[3 5 7]\n"
     ]
    }
   ],
   "source": [
    "# Exercise 7 - refactor using numpy to determine the odds_in_b\n",
    "#odds_in_b = []\n",
    "#for row in b:\n",
    "#    for number in row:\n",
    "#        if(number % 2 != 0):\n",
    "#            odds_in_b.append(number)\n",
    "            \n",
    "odds_in_b = b % 2 != 0\n",
    "print(b[odds_in_b])"
   ]
  },
  {
   "cell_type": "code",
   "execution_count": 51,
   "id": "8ad61231",
   "metadata": {},
   "outputs": [
    {
     "name": "stdout",
     "output_type": "stream",
     "text": [
      "[4 6 8]\n"
     ]
    }
   ],
   "source": [
    "# Exercise 8 - refactor the following to use numpy to filter only the even numbers\n",
    "#evens_in_b = []\n",
    "#for row in b:\n",
    "#    for number in row:\n",
    "#        if(number % 2 == 0):\n",
    "#            evens_in_b.append(number)\n",
    "            \n",
    "evens_in_b = b % 2 == 0\n",
    "print(b[evens_in_b])"
   ]
  },
  {
   "cell_type": "code",
   "execution_count": 53,
   "id": "85b79fb3",
   "metadata": {},
   "outputs": [
    {
     "name": "stdout",
     "output_type": "stream",
     "text": [
      "(2, 3)\n"
     ]
    }
   ],
   "source": [
    "# Exercise 9 - print out the shape of the array b.\n",
    "\n",
    "print(np.shape(b))"
   ]
  },
  {
   "cell_type": "code",
   "execution_count": 55,
   "id": "51d1200c",
   "metadata": {},
   "outputs": [
    {
     "name": "stdout",
     "output_type": "stream",
     "text": [
      "[[3 6]\n",
      " [4 7]\n",
      " [5 8]]\n"
     ]
    }
   ],
   "source": [
    "# Exercise 10 - transpose the array b.\n",
    "\n",
    "print(np.transpose(b))"
   ]
  },
  {
   "cell_type": "code",
   "execution_count": 56,
   "id": "f1e01700",
   "metadata": {},
   "outputs": [
    {
     "name": "stdout",
     "output_type": "stream",
     "text": [
      "[[3 4 5 6 7 8]]\n"
     ]
    }
   ],
   "source": [
    "# Exercise 11 - reshape the array b to be a single list of 6 numbers. (1 x 6)\n",
    "\n",
    "print(np.reshape(b, (1,6)))"
   ]
  },
  {
   "cell_type": "code",
   "execution_count": 57,
   "id": "17791b88",
   "metadata": {},
   "outputs": [
    {
     "name": "stdout",
     "output_type": "stream",
     "text": [
      "[[3]\n",
      " [4]\n",
      " [5]\n",
      " [6]\n",
      " [7]\n",
      " [8]]\n"
     ]
    }
   ],
   "source": [
    "# Exercise 12 - reshape the array b to be a list of 6 lists, each containing only 1 number (6 x 1)\n",
    "\n",
    "print(np.reshape(b, (6,1)))"
   ]
  },
  {
   "cell_type": "markdown",
   "id": "75664903",
   "metadata": {},
   "source": [
    "# Setup 3"
   ]
  },
  {
   "cell_type": "code",
   "execution_count": 60,
   "id": "c060defc",
   "metadata": {},
   "outputs": [],
   "source": [
    "d = [\n",
    "    [1, 2, 3],\n",
    "    [4, 5, 6],\n",
    "    [7, 8, 9]\n",
    "]\n",
    "\n",
    "d = np.array(d)"
   ]
  },
  {
   "cell_type": "code",
   "execution_count": 61,
   "id": "c6e1f9e4",
   "metadata": {},
   "outputs": [
    {
     "name": "stdout",
     "output_type": "stream",
     "text": [
      "Min: 1\n",
      "Max: 9\n",
      "Sum: 45\n",
      "Product: 362880\n"
     ]
    }
   ],
   "source": [
    "# HINT, you'll first need to make sure that the \"d\" variable is a numpy array prior to using numpy array methods.\n",
    "# Exercise 1 - Find the min, max, sum, and product of d.\n",
    "\n",
    "min_d = np.min(d)\n",
    "max_d = np.max(d)\n",
    "sum_d = np.sum(d)\n",
    "product_d = np.product(d)\n",
    "\n",
    "print(\"Min: {}\\nMax: {}\\nSum: {}\\nProduct: {}\".format(min_d, max_d, sum_d, product_d))\n"
   ]
  },
  {
   "cell_type": "code",
   "execution_count": 62,
   "id": "6da3479b",
   "metadata": {},
   "outputs": [
    {
     "name": "stdout",
     "output_type": "stream",
     "text": [
      "Standard deviation:  2.581988897471611\n"
     ]
    }
   ],
   "source": [
    "# Exercise 2 - Determine the standard deviation of d.\n",
    "std_d = np.std(d)\n",
    "\n",
    "print(\"Standard deviation: \", std_d)"
   ]
  },
  {
   "cell_type": "code",
   "execution_count": 63,
   "id": "0ce69c43",
   "metadata": {},
   "outputs": [
    {
     "name": "stdout",
     "output_type": "stream",
     "text": [
      "6.666666666666667\n"
     ]
    }
   ],
   "source": [
    "# Exercise 3 - Determine the variance of d.\n",
    "\n",
    "var_d = np.var(d)\n",
    "\n",
    "print(var_d)"
   ]
  },
  {
   "cell_type": "code",
   "execution_count": 65,
   "id": "a24f352d",
   "metadata": {},
   "outputs": [
    {
     "name": "stdout",
     "output_type": "stream",
     "text": [
      "(3, 3)\n"
     ]
    }
   ],
   "source": [
    "# Exercise 4 - Print out the shape of the array d\n",
    "print(np.shape(d))"
   ]
  },
  {
   "cell_type": "code",
   "execution_count": 66,
   "id": "bea9a558",
   "metadata": {},
   "outputs": [
    {
     "name": "stdout",
     "output_type": "stream",
     "text": [
      "[[1 4 7]\n",
      " [2 5 8]\n",
      " [3 6 9]]\n"
     ]
    }
   ],
   "source": [
    "# Exercise 5 - Transpose d and print out transposed result.\n",
    "trans_b = np.transpose(d)\n",
    "\n",
    "print(trans_b)"
   ]
  },
  {
   "cell_type": "code",
   "execution_count": 68,
   "id": "0490140d",
   "metadata": {},
   "outputs": [
    {
     "name": "stdout",
     "output_type": "stream",
     "text": [
      "[[ 30  36  42]\n",
      " [ 66  81  96]\n",
      " [102 126 150]]\n"
     ]
    }
   ],
   "source": [
    "# Exercise 6 - Get the dot product of the array d with d. \n",
    "\n",
    "dot_d = np.dot(d,d)\n",
    "print(dot_d)"
   ]
  },
  {
   "cell_type": "code",
   "execution_count": 69,
   "id": "2a558329",
   "metadata": {},
   "outputs": [
    {
     "name": "stdout",
     "output_type": "stream",
     "text": [
      "261\n"
     ]
    }
   ],
   "source": [
    "# Exercise 7 - Write the code necessary to sum up the result of d times d transposed. Answer should be 261\n",
    "\n",
    "d_times_trans = d * trans_b\n",
    "\n",
    "print(np.sum(d_times_trans))"
   ]
  },
  {
   "cell_type": "code",
   "execution_count": 70,
   "id": "680a2929",
   "metadata": {},
   "outputs": [
    {
     "name": "stdout",
     "output_type": "stream",
     "text": [
      "131681894400\n"
     ]
    }
   ],
   "source": [
    "# Exercise 8 - Write the code necessary to determine the product of d times d transposed. \n",
    "# Answer should be 131681894400.\n",
    "\n",
    "\n",
    "print(np.product(d_times_trans))\n"
   ]
  },
  {
   "cell_type": "markdown",
   "id": "a3b8b116",
   "metadata": {},
   "source": [
    "## Setup 4"
   ]
  },
  {
   "cell_type": "code",
   "execution_count": 80,
   "id": "e1bada93",
   "metadata": {},
   "outputs": [],
   "source": [
    "e = [\n",
    "    [90, 30, 45, 0, 120, 180],\n",
    "    [45, -90, -30, 270, 90, 0],\n",
    "    [60, 45, -45, 90, -45, 180]\n",
    "]\n",
    "\n",
    "e = np.array(e)"
   ]
  },
  {
   "cell_type": "code",
   "execution_count": 76,
   "id": "2e52a3b9",
   "metadata": {},
   "outputs": [
    {
     "name": "stdout",
     "output_type": "stream",
     "text": [
      "[[ 0.89399666 -0.98803162  0.85090352  0.          0.58061118 -0.80115264]\n",
      " [ 0.85090352 -0.89399666  0.98803162 -0.17604595  0.89399666  0.        ]\n",
      " [-0.30481062  0.85090352 -0.85090352  0.89399666 -0.85090352 -0.80115264]]\n"
     ]
    }
   ],
   "source": [
    "# Exercise 1 - Find the sine of all the numbers in d\n",
    "\n",
    "print(np.sin(e))"
   ]
  },
  {
   "cell_type": "code",
   "execution_count": 77,
   "id": "b63658a6",
   "metadata": {},
   "outputs": [
    {
     "name": "stdout",
     "output_type": "stream",
     "text": [
      "[[-0.44807362  0.15425145  0.52532199  1.          0.81418097 -0.59846007]\n",
      " [ 0.52532199 -0.44807362  0.15425145  0.98438195 -0.44807362  1.        ]\n",
      " [-0.95241298  0.52532199  0.52532199 -0.44807362  0.52532199 -0.59846007]]\n"
     ]
    }
   ],
   "source": [
    "# Exercise 2 - Find the cosine of all the numbers in d\n",
    "\n",
    "print(np.cos(e))"
   ]
  },
  {
   "cell_type": "code",
   "execution_count": 78,
   "id": "89c13f97",
   "metadata": {},
   "outputs": [
    {
     "name": "stdout",
     "output_type": "stream",
     "text": [
      "[[-1.99520041 -6.4053312   1.61977519  0.          0.71312301  1.33869021]\n",
      " [ 1.61977519  1.99520041  6.4053312  -0.17883906 -1.99520041  0.        ]\n",
      " [ 0.32004039  1.61977519 -1.61977519 -1.99520041 -1.61977519  1.33869021]]\n"
     ]
    }
   ],
   "source": [
    "# Exercise 3 - Find the tangent of all the numbers in d\n",
    "\n",
    "print(np.tan(e))"
   ]
  },
  {
   "cell_type": "code",
   "execution_count": 81,
   "id": "9f1d12e6",
   "metadata": {},
   "outputs": [
    {
     "name": "stdout",
     "output_type": "stream",
     "text": [
      "[-90 -30 -45 -45]\n"
     ]
    }
   ],
   "source": [
    "# Exercise 4 - Find all the negative numbers in d\n",
    "\n",
    "neg_e = e < 0\n",
    "print(e[neg_e])"
   ]
  },
  {
   "cell_type": "code",
   "execution_count": 82,
   "id": "7985070b",
   "metadata": {},
   "outputs": [
    {
     "name": "stdout",
     "output_type": "stream",
     "text": [
      "[ 90  30  45 120 180  45 270  90  60  45  90 180]\n"
     ]
    }
   ],
   "source": [
    "# Exercise 5 - Find all the positive numbers in d\n",
    "\n",
    "positive_e = e > 0\n",
    "print(e[positive_e])"
   ]
  },
  {
   "cell_type": "code",
   "execution_count": 84,
   "id": "701046ff",
   "metadata": {},
   "outputs": [
    {
     "name": "stdout",
     "output_type": "stream",
     "text": [
      "[-90 -45 -30   0  30  45  60  90 120 180 270]\n"
     ]
    }
   ],
   "source": [
    "# Exercise 6 - Return an array of only the unique numbers in d.\n",
    "\n",
    "print(np.unique(e))"
   ]
  },
  {
   "cell_type": "code",
   "execution_count": 85,
   "id": "93c5ca6a",
   "metadata": {},
   "outputs": [
    {
     "name": "stdout",
     "output_type": "stream",
     "text": [
      "11\n"
     ]
    }
   ],
   "source": [
    "# Exercise 7 - Determine how many unique numbers there are in d.\n",
    "print(len(np.unique(e)))"
   ]
  },
  {
   "cell_type": "code",
   "execution_count": 86,
   "id": "56899cdc",
   "metadata": {},
   "outputs": [
    {
     "name": "stdout",
     "output_type": "stream",
     "text": [
      "(3, 6)\n"
     ]
    }
   ],
   "source": [
    "# Exercise 8 - Print out the shape of d.\n",
    "print(np.shape(e))"
   ]
  },
  {
   "cell_type": "code",
   "execution_count": 87,
   "id": "291d9c94",
   "metadata": {},
   "outputs": [
    {
     "name": "stdout",
     "output_type": "stream",
     "text": [
      "[[ 90  45  60]\n",
      " [ 30 -90  45]\n",
      " [ 45 -30 -45]\n",
      " [  0 270  90]\n",
      " [120  90 -45]\n",
      " [180   0 180]]\n"
     ]
    }
   ],
   "source": [
    "# Exercise 9 - Transpose and then print out the shape of d.\n",
    "\n",
    "print(np.transpose(e))"
   ]
  },
  {
   "cell_type": "code",
   "execution_count": 88,
   "id": "d5c2bfb5",
   "metadata": {},
   "outputs": [
    {
     "name": "stdout",
     "output_type": "stream",
     "text": [
      "[[ 90  30]\n",
      " [ 45   0]\n",
      " [120 180]\n",
      " [ 45 -90]\n",
      " [-30 270]\n",
      " [ 90   0]\n",
      " [ 60  45]\n",
      " [-45  90]\n",
      " [-45 180]]\n"
     ]
    }
   ],
   "source": [
    "# Exercise 10 - Reshape d into an array of 9 x 2\n",
    "\n",
    "print(np.reshape(e,(9,2)))\n"
   ]
  },
  {
   "cell_type": "code",
   "execution_count": null,
   "id": "417f37b9",
   "metadata": {},
   "outputs": [],
   "source": []
  }
 ],
 "metadata": {
  "kernelspec": {
   "display_name": "Python 3",
   "language": "python",
   "name": "python3"
  },
  "language_info": {
   "codemirror_mode": {
    "name": "ipython",
    "version": 3
   },
   "file_extension": ".py",
   "mimetype": "text/x-python",
   "name": "python",
   "nbconvert_exporter": "python",
   "pygments_lexer": "ipython3",
   "version": "3.8.8"
  }
 },
 "nbformat": 4,
 "nbformat_minor": 5
}
