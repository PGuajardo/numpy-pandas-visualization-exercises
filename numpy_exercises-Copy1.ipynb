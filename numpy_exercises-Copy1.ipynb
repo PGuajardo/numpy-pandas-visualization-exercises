{
 "cells": [
  {
   "cell_type": "code",
   "execution_count": 2,
   "id": "870def4b",
   "metadata": {},
   "outputs": [],
   "source": [
    "import numpy as np\n",
    "a = np.array([4, 10, 12, 23, -2, -1, 0, 0, 0, -6, 3, -7])"
   ]
  },
  {
   "cell_type": "code",
   "execution_count": 7,
   "id": "a178aef7",
   "metadata": {},
   "outputs": [
    {
     "name": "stdout",
     "output_type": "stream",
     "text": [
      "This is how many negative numbers there are:  4\n"
     ]
    }
   ],
   "source": [
    "# 1.) How many negative numbers are there?\n",
    "\n",
    "negative = a < 0\n",
    "negative\n",
    "\n",
    "print(\"This is how many negative numbers there are: \",len(a[negative]))"
   ]
  },
  {
   "cell_type": "code",
   "execution_count": 8,
   "id": "fd366b5b",
   "metadata": {},
   "outputs": [
    {
     "name": "stdout",
     "output_type": "stream",
     "text": [
      "This is how many negative numbers there are:  5\n"
     ]
    }
   ],
   "source": [
    "# 2.) How many positive numbers are there?\n",
    "\n",
    "positive = a > 0\n",
    "positive\n",
    "\n",
    "print(\"This is how many negative numbers there are: \",len(a[positive]))"
   ]
  },
  {
   "cell_type": "code",
   "execution_count": 15,
   "id": "46b1b26f",
   "metadata": {},
   "outputs": [
    {
     "name": "stdout",
     "output_type": "stream",
     "text": [
      "This is how many positive even numbers there are:  3\n"
     ]
    }
   ],
   "source": [
    "# 3.) How many even positive numbers are there?\n",
    "\n",
    "#positive = a % 2 == 0\n",
    "#positive = a > 0 \n",
    "positive_even = a[(a>0) & (a%2 == 0)]\n",
    "positive_even\n",
    "\n",
    "print(\"This is how many positive even numbers there are: \", len(positive_even))"
   ]
  },
  {
   "cell_type": "code",
   "execution_count": 17,
   "id": "d22e6176",
   "metadata": {},
   "outputs": [
    {
     "name": "stdout",
     "output_type": "stream",
     "text": [
      "This is how many positive numbers there are when you add 3 to the array:  10\n"
     ]
    }
   ],
   "source": [
    "# 4.) If you were to add 3 to each data point, how many positive numbers would there be?\n",
    "\n",
    "a2 = a + 3\n",
    "a2\n",
    "\n",
    "positive2 = a2 > 0\n",
    "positive2\n",
    "print(\"This is how many positive numbers there are when you add 3 to the array: \", len(a[positive2]))"
   ]
  },
  {
   "cell_type": "code",
   "execution_count": 24,
   "id": "bc518310",
   "metadata": {},
   "outputs": [
    {
     "name": "stdout",
     "output_type": "stream",
     "text": [
      "[ 16 100 144 529   4   1   0   0   0  36   9  49]\n",
      "This is the new standard deviationg:  8.06225774829855\n",
      "This is the new mean:  3.0\n",
      "\n",
      "\n",
      "This is the new standard deviationg:  144.0243035046516\n",
      "This is the new mean:  74.0\n"
     ]
    }
   ],
   "source": [
    "# 5.) If you squared each number, what would the new mean and standard deviation be?\n",
    "\n",
    "a3 = a**2\n",
    "a3\n",
    "\n",
    "\n",
    "print(\"This is the new standard deviationg: \",np.std(a))\n",
    "print(\"This is the new mean: \",np.mean(a))\n",
    "\n",
    "\n",
    "print(\"\\n\\nThis is the new standard deviationg: \",np.std(a3))\n",
    "print(\"This is the new mean: \",np.mean(a3))"
   ]
  },
  {
   "cell_type": "code",
   "execution_count": 26,
   "id": "11948412",
   "metadata": {},
   "outputs": [
    {
     "data": {
      "text/plain": [
       "0.0"
      ]
     },
     "execution_count": 26,
     "metadata": {},
     "output_type": "execute_result"
    }
   ],
   "source": [
    "# 6.) A common statistical operation on a dataset is centering.\n",
    "# This means to adjust the data such that the mean of the data is 0. \n",
    "#This is done by subtracting the mean from each data point. Center the data set. See this link for more on centering.\n",
    "\n",
    "a_is_mean = np.mean(a)\n",
    "\n",
    "centering = a - a_is_mean\n",
    "centering\n",
    "\n",
    "np.mean(centering)"
   ]
  },
  {
   "cell_type": "code",
   "execution_count": 27,
   "id": "1a5b5df3",
   "metadata": {},
   "outputs": [
    {
     "data": {
      "text/plain": [
       "array([ 0.12403473,  0.86824314,  1.11631261,  2.48069469, -0.62017367,\n",
       "       -0.49613894, -0.3721042 , -0.3721042 , -0.3721042 , -1.11631261,\n",
       "        0.        , -1.24034735])"
      ]
     },
     "execution_count": 27,
     "metadata": {},
     "output_type": "execute_result"
    }
   ],
   "source": [
    "# 7.) Calculate the z-score for each data point. Recall that the z-score is given by:\n",
    "# Z = x − μ σ\n",
    "\n",
    "z =  a - np.average(a)\n",
    "\n",
    "z_score = z / np.std(a)\n",
    "\n",
    "z_score"
   ]
  },
  {
   "cell_type": "code",
   "execution_count": null,
   "id": "34d34df9",
   "metadata": {},
   "outputs": [],
   "source": [
    "# 8.) Copy the setup and exercise directions from More Numpy Practice into your numpy_exercises.py and\n",
    "# add your solutions."
   ]
  }
 ],
 "metadata": {
  "kernelspec": {
   "display_name": "Python 3",
   "language": "python",
   "name": "python3"
  },
  "language_info": {
   "codemirror_mode": {
    "name": "ipython",
    "version": 3
   },
   "file_extension": ".py",
   "mimetype": "text/x-python",
   "name": "python",
   "nbconvert_exporter": "python",
   "pygments_lexer": "ipython3",
   "version": "3.8.8"
  }
 },
 "nbformat": 4,
 "nbformat_minor": 5
}
